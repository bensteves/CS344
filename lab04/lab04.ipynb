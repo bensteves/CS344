{
 "cells": [
  {
   "cell_type": "markdown",
   "metadata": {},
   "source": [
    "Ben Steves, CS344, Spring 2022, 2-1-22"
   ]
  },
  {
   "cell_type": "markdown",
   "metadata": {},
   "source": [
    "## Setup"
   ]
  },
  {
   "cell_type": "code",
   "execution_count": 1,
   "metadata": {},
   "outputs": [],
   "source": [
    "import torch\n",
    "from torch import tensor\n",
    "import ipywidgets as widgets\n",
    "import matplotlib.pyplot as plt\n",
    "%matplotlib inline"
   ]
  },
  {
   "cell_type": "markdown",
   "metadata": {},
   "source": [
    "## Task"
   ]
  },
  {
   "cell_type": "markdown",
   "metadata": {},
   "source": [
    "Suppose we have a dataset with just a single feature `x` and continuous outcome variable `y`.\n",
    "\n",
    "In general we're going to be faced with a dataset with an unknown and probably nonlinear relationship. But for now let's use a simple dataset with a known linear relationship:"
   ]
  },
  {
   "cell_type": "code",
   "execution_count": 2,
   "metadata": {},
   "outputs": [
    {
     "data": {
      "image/png": "[encoded data removed]",
      "text/plain": [
       "<Figure size 432x288 with 1 Axes>"
      ]
     },
     "metadata": {
      "needs_background": "light"
     },
     "output_type": "display_data"
    }
   ],
   "source": [
    "true_weights = 4.0\n",
    "true_bias = -1.0\n",
    "\n",
    "# Make the randomness consistent\n",
    "torch.manual_seed(0)\n",
    "# Use random x values\n",
    "x = torch.rand(100)\n",
    "# Generate random noise, same shape as *x*, that has some outliers.\n",
    "noise = torch.distributions.studentT.StudentT(2.0).sample(x.shape)\n",
    "# For a simpler variant, use  torch.randn_like(x).\n",
    "#print(f\"Noise mean: {noise.mean()}, noise variance {noise.var()}\")\n",
    "# Generate true y values \n",
    "y_true = true_weights * x + noise + true_bias\n",
    "# Make a scatterplot. The semicolon at the end says to ignore the return value.\n",
    "plt.scatter(x, y_true);"
   ]
  },
  {
   "cell_type": "code",
   "execution_count": 11,
   "metadata": {},
   "outputs": [
    {
     "data": {
      "image/png": "[encoded data removed]",
      "text/plain": [
       "<Figure size 432x288 with 1 Axes>"
      ]
     },
     "metadata": {
      "needs_background": "light"
     },
     "output_type": "display_data"
    }
   ],
   "source": [
    "slope = 1.2\n",
    "bias = 0.0\n",
    "y_pred = slope * x + bias\n",
    "plt.scatter(x, y_true); plt.plot(x, y_pred, 'r');"
   ]
  },
  {
   "cell_type": "code",
   "execution_count": 12,
   "metadata": {
    "scrolled": true
   },
   "outputs": [
    {
     "data": {
      "application/vnd.jupyter.widget-view+json": {
       "model_id": "0d4982f9325a41de9da161beaee510c0",
       "version_major": 2,
       "version_minor": 0
      },
      "text/plain": [
       "interactive(children=(FloatSlider(value=0.0, description='slope', max=5.0, min=-5.0), Output()), _dom_classes=…"
      ]
     },
     "metadata": {},
     "output_type": "display_data"
    }
   ],
   "source": [
    "@widgets.interact(slope=(-5.0, 5.0))\n",
    "def plot_linreg(slope):\n",
    "    y_pred = slope * x + bias\n",
    "    plt.scatter(x, y_true); plt.plot(x, y_pred, 'r');\n",
    "    resid = y_true - y_pred\n",
    "    mse = torch.mean(resid**2)\n",
    "    mae = torch.mean(resid.abs())\n",
    "    print(f\"MSE: {mse}, MAE: {mae}\")"
   ]
  },
  {
   "cell_type": "markdown",
   "metadata": {},
   "source": [
    "- Slope that minimizes MSE: 1.4\n",
    "- Slope that minimizes MAE: 2.4\n",
    "- Description of the difference: The MSE seems to be more affected by the outlier than MAE, alas why the slope for MAE is larger and fits in more with the main trend line."
   ]
  },
  {
   "cell_type": "markdown",
   "metadata": {},
   "source": [
    "### Gradient\n"
   ]
  },
  {
   "cell_type": "code",
   "execution_count": 20,
   "metadata": {},
   "outputs": [
    {
     "name": "stdout",
     "output_type": "stream",
     "text": [
      "tensor(4.3255)\n",
      "tensor(4.2745)\n",
      "tensor(4.3272)\n",
      "tensor(4.4838)\n"
     ]
    }
   ],
   "source": [
    "def linreg_mse(slope):\n",
    "    y_pred = slope * x + bias\n",
    "    resid = y_true - y_pred\n",
    "    mse = torch.mean(resid**2)\n",
    "   # mae = torch.mean(resid.abs())\n",
    "    return mse\n",
    "\n",
    "mse_list = 1.0, 1.4, 1.8, 2.2\n",
    "\n",
    "for i in mse_list:\n",
    "    print(linreg_mse(i))"
   ]
  },
  {
   "cell_type": "code",
   "execution_count": 22,
   "metadata": {},
   "outputs": [
    {
     "name": "stdout",
     "output_type": "stream",
     "text": [
      "tensor(-0.9060)\n",
      "tensor(0.0024)\n",
      "tensor(0.6504)\n"
     ]
    }
   ],
   "source": [
    "def compute_gradient(eps, x0):\n",
    "    return (linreg_mse(x0 + eps) - linreg_mse(x0)) / eps\n",
    "\n",
    "eps = 1e-3\n",
    "x0_list = [0.0, 1.4, 2.4]\n",
    "\n",
    "for x0 in x0_list:\n",
    "    print(compute_gradient(eps, x0))"
   ]
  },
  {
   "cell_type": "markdown",
   "metadata": {},
   "source": [
    "1.4 was our best match for MSE, so it's gradient is closest to 0 of the three."
   ]
  },
  {
   "cell_type": "markdown",
   "metadata": {},
   "source": [
    "### Gradient Descent"
   ]
  },
  {
   "cell_type": "markdown",
   "metadata": {},
   "source": [
    "(will do on my own time)"
   ]
  },
  {
   "cell_type": "markdown",
   "metadata": {},
   "source": [
    "1. If the value of the gradient is positive, we need to move closer to 0 on the gradient scale, so the slope would need to decrease. \n",
    "2. On the flipside, slope would need to increase if the value of the gradient is < 0. \n",
    "3. The gradient when the parameter minimizes the MSE is 0.\n",
    "4. To use MAE, we'd edit the linreg_mse() function to instead take the absolute value of the residuals and average them. "
   ]
  }
 ],
 "metadata": {
  "kernelspec": {
   "display_name": "Python 3 (ipykernel)",
   "language": "python",
   "name": "python3"
  },
  "language_info": {
   "codemirror_mode": {
    "name": "ipython",
    "version": 3
   },
   "file_extension": ".py",
   "mimetype": "text/x-python",
   "name": "python",
   "nbconvert_exporter": "python",
   "pygments_lexer": "ipython3",
   "version": "3.9.7"
  }
 },
 "nbformat": 4,
 "nbformat_minor": 4
}
