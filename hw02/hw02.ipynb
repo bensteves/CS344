{
 "cells": [
  {
   "cell_type": "markdown",
   "id": "a1f231bd",
   "metadata": {},
   "source": [
    "Ben Steves, CS344, Spring 2022, 1-22-22"
   ]
  },
  {
   "cell_type": "markdown",
   "id": "a5625030",
   "metadata": {},
   "source": [
    "# HW 2 - Campus Building Classification"
   ]
  },
  {
   "cell_type": "markdown",
   "id": "45ee8c1c",
   "metadata": {},
   "source": [
    "As part of homework 2, I trained an image classifier with images of the Spoelhof Center and the Science Building, taken from the outside. "
   ]
  },
  {
   "cell_type": "code",
   "execution_count": 1,
   "id": "e90e7765",
   "metadata": {},
   "outputs": [],
   "source": [
    "from fastai.vision.all import *"
   ]
  },
  {
   "cell_type": "code",
   "execution_count": 2,
   "id": "545ccd75",
   "metadata": {},
   "outputs": [],
   "source": [
    "path = '/home/bjs48/cs344/hw02/'"
   ]
  },
  {
   "cell_type": "code",
   "execution_count": 3,
   "id": "bfe42f2e",
   "metadata": {},
   "outputs": [
    {
     "data": {
      "text/plain": [
       "(#41) [Path('/home/bjs48/cs344/hw02/SCC/SCC_3.jpg'),Path('/home/bjs48/cs344/hw02/SCC/SCC_14.jpg'),Path('/home/bjs48/cs344/hw02/SCC/SCC_1.jpg'),Path('/home/bjs48/cs344/hw02/SCC/SCC_13.jpg'),Path('/home/bjs48/cs344/hw02/SCC/SCC_8.jpg'),Path('/home/bjs48/cs344/hw02/SCC/SCC_10.jpg'),Path('/home/bjs48/cs344/hw02/SCC/SCC_18.jpg'),Path('/home/bjs48/cs344/hw02/SCC/SCC_4.jpg'),Path('/home/bjs48/cs344/hw02/SCC/SCC_11.jpg'),Path('/home/bjs48/cs344/hw02/SCC/SCC_15.jpg')...]"
      ]
     },
     "execution_count": 3,
     "metadata": {},
     "output_type": "execute_result"
    }
   ],
   "source": [
    "files = get_image_files(path)\n",
    "files"
   ]
  },
  {
   "cell_type": "markdown",
   "id": "9424c6e5",
   "metadata": {},
   "source": [
    "41 files listed, so we know this worked."
   ]
  },
  {
   "cell_type": "markdown",
   "id": "c6869c6e",
   "metadata": {},
   "source": [
    "## Model 1: 20% Validation"
   ]
  },
  {
   "cell_type": "code",
   "execution_count": null,
   "id": "f9827eae",
   "metadata": {},
   "outputs": [],
   "source": [
    "set_seed(340, reproducible=True)"
   ]
  },
  {
   "cell_type": "code",
   "execution_count": null,
   "id": "198c424f",
   "metadata": {},
   "outputs": [],
   "source": [
    "buildings1 = DataBlock(\n",
    "    #1st is input, 2nd is output or response\n",
    "    blocks=(ImageBlock, CategoryBlock), \n",
    "    get_items=get_image_files, \n",
    "    splitter=RandomSplitter(valid_pct=0.2, seed=340),\n",
    "    get_y=parent_label,\n",
    "    item_tfms=Resize(128)\n",
    ")"
   ]
  },
  {
   "cell_type": "code",
   "execution_count": null,
   "id": "8d9ab27d",
   "metadata": {},
   "outputs": [],
   "source": [
    "dls1 = buildings1.dataloaders(path, bs = 8)"
   ]
  },
  {
   "cell_type": "code",
   "execution_count": null,
   "id": "9dc89c87",
   "metadata": {},
   "outputs": [],
   "source": [
    "dls1.valid.show_batch(max_n = 4, nrows = 1)"
   ]
  },
  {
   "cell_type": "code",
   "execution_count": null,
   "id": "68f6c150",
   "metadata": {},
   "outputs": [],
   "source": [
    "learnBuildings1 = cnn_learner(\n",
    "    dls=dls1,\n",
    "    arch=resnet18,\n",
    "    metrics=error_rate\n",
    ")\n",
    "learnBuildings1.fine_tune(epochs=4)"
   ]
  },
  {
   "cell_type": "code",
   "execution_count": null,
   "id": "e3bb7bd2",
   "metadata": {},
   "outputs": [],
   "source": [
    "interp1 = ClassificationInterpretation.from_learner(learnBuildings1)\n",
    "interp1.plot_confusion_matrix()"
   ]
  },
  {
   "cell_type": "markdown",
   "id": "53bae996",
   "metadata": {},
   "source": [
    "Though there is not a ton of data, the model correctly classified its test data. All 4 science building images are predicted as such, and likewise for the spoelhof buildings. The error rate range was 0%-62.5%, and this metric improved with each epoch."
   ]
  },
  {
   "cell_type": "markdown",
   "id": "ddf81a16",
   "metadata": {},
   "source": [
    "## Model 2: 50% Validation"
   ]
  },
  {
   "cell_type": "code",
   "execution_count": null,
   "id": "fbf4bdfa",
   "metadata": {},
   "outputs": [],
   "source": [
    "buildings2 = DataBlock(\n",
    "    #1st is input, 2nd is output or response\n",
    "    blocks=(ImageBlock, CategoryBlock), \n",
    "    get_items=get_image_files, \n",
    "    splitter=RandomSplitter(valid_pct=0.5, seed=340),\n",
    "    get_y=parent_label,\n",
    "    item_tfms=Resize(128)\n",
    ")"
   ]
  },
  {
   "cell_type": "code",
   "execution_count": null,
   "id": "41a83832",
   "metadata": {},
   "outputs": [],
   "source": [
    "dls2 = buildings2.dataloaders(path, bs = 4)"
   ]
  },
  {
   "cell_type": "code",
   "execution_count": null,
   "id": "60d9c2e6",
   "metadata": {},
   "outputs": [],
   "source": [
    "dls2.valid.show_batch(max_n = 4, nrows = 1)"
   ]
  },
  {
   "cell_type": "code",
   "execution_count": null,
   "id": "0a63213e",
   "metadata": {},
   "outputs": [],
   "source": [
    "learnBuildings2 = cnn_learner(\n",
    "    dls=dls2,\n",
    "    arch=resnet18,\n",
    "    metrics=error_rate\n",
    ")\n",
    "learnBuildings2.fine_tune(epochs=4)"
   ]
  },
  {
   "cell_type": "code",
   "execution_count": null,
   "id": "ca59185b",
   "metadata": {},
   "outputs": [],
   "source": [
    "interp2 = ClassificationInterpretation.from_learner(learnBuildings2)\n",
    "interp2.plot_confusion_matrix()"
   ]
  },
  {
   "cell_type": "markdown",
   "id": "a2bfe8e2",
   "metadata": {},
   "source": [
    "Using a larger validation split % allowed for more data to be tested (and less to be trained). Even with less input data, the learner was able to correctly predict almost every image correctly, only predicting one spoelhof center image as the science building. The range of error rates was between 5%-40%. "
   ]
  },
  {
   "cell_type": "code",
   "execution_count": null,
   "id": "fe2a23d2",
   "metadata": {},
   "outputs": [],
   "source": [
    "interp2.plot_top_losses(5, nrows=1)"
   ]
  },
  {
   "cell_type": "markdown",
   "id": "02521c04",
   "metadata": {},
   "source": [
    "This was the only incorrect classification - and I think I took a few pictures that had this sort of layout, so it's interesting this one was predicted wrong of all of the images. "
   ]
  },
  {
   "cell_type": "markdown",
   "id": "a76893df",
   "metadata": {},
   "source": [
    "## Model 3: 50% Validation with augmentation"
   ]
  },
  {
   "cell_type": "code",
   "execution_count": null,
   "id": "f23816ec",
   "metadata": {},
   "outputs": [],
   "source": [
    "buildings3 = DataBlock(\n",
    "    #1st is input, 2nd is output or response\n",
    "    blocks=(ImageBlock, CategoryBlock), \n",
    "    get_items=get_image_files, \n",
    "    splitter=RandomSplitter(valid_pct=0.5, seed=340),\n",
    "    get_y=parent_label,\n",
    "    item_tfms=Resize(128)\n",
    ")"
   ]
  },
  {
   "cell_type": "code",
   "execution_count": null,
   "id": "c95a0eef",
   "metadata": {},
   "outputs": [],
   "source": [
    "buildings3 = buildings3.new(item_tfms=Resize(128), batch_tfms=aug_transforms(mult=2))\n",
    "dls3 = buildings3.dataloaders(path, bs = 4)\n",
    "dls3.train.show_batch(max_n = 4, nrows = 1)"
   ]
  },
  {
   "cell_type": "code",
   "execution_count": null,
   "id": "cc170d5b",
   "metadata": {},
   "outputs": [],
   "source": [
    "learnBuildings3 = cnn_learner(\n",
    "    dls=dls3,\n",
    "    arch=resnet18,\n",
    "    metrics=error_rate\n",
    ")\n",
    "learnBuildings3.fine_tune(epochs=4)"
   ]
  },
  {
   "cell_type": "code",
   "execution_count": null,
   "id": "08274be1",
   "metadata": {
    "scrolled": false
   },
   "outputs": [],
   "source": [
    "interp3 = ClassificationInterpretation.from_learner(learnBuildings3)\n",
    "interp3.plot_confusion_matrix()"
   ]
  },
  {
   "cell_type": "markdown",
   "id": "93662736",
   "metadata": {},
   "source": [
    "In the augmentation model, error rate minimums are the highest out of the three models (15% inaccuracy compared to 0 and 5). It mistakenly identifies two science building pictures as being the spoelhof center - though it is still relatively accurate in its predictions. Of course, because of the augmentation, the model becomes prone to more errors. \n",
    "\n",
    "Note: I know the submission said not to show results of every model trained, but I didn't know how else to show the work I did with the conclusions I made about each model's outputs. "
   ]
  },
  {
   "cell_type": "markdown",
   "id": "b4fd47a8",
   "metadata": {},
   "source": [
    "## General Reflection Questions"
   ]
  },
  {
   "cell_type": "markdown",
   "id": "b3f58b65",
   "metadata": {},
   "source": [
    "Q1: Overall, each classifier was quite accurate - error rates are listed above for each model's results. "
   ]
  },
  {
   "cell_type": "markdown",
   "id": "7d7fb63e",
   "metadata": {},
   "source": [
    "Q2: There were minimal mistakes in both the 50% partitioned data and the augmented data. The augmented data threw some misclassified images due to their distortion. I also discussed in the Model 2 section that I found it interesting that one particular image was classified incorrectly. "
   ]
  },
  {
   "cell_type": "markdown",
   "id": "1470bcc4",
   "metadata": {},
   "source": [
    "Q3: I used different cross-validation percentages for this reason. It worked with a larger training pool and still did pretty well with slightly smaller training pool. With an even smaller training set, one would think the classifier becomes more inaccurate. "
   ]
  },
  {
   "cell_type": "markdown",
   "id": "a2d931af",
   "metadata": {},
   "source": [
    "Q4: One thing I had to decide was what I needed to set the batch size as - it failed with 64 since there are only 41 images, so I opted to go with a batch size of 4. In data collection, I felt that I needed to try and get a few pictures from different angles and sides of the buildings, and I took some photos in small bursts, moving the camera slightly. I feel like I did okay at collecting the data and taking the pictures given that I have mediocre photography skills. It would have been nice to take some photos at different times of the day - one flaw potentially with the dataset is that for each building, I only took photos on two different days. It would have been interesting to have variations in lighting, shadow, time of day, weather, etc. I think the dataset would be a little bit more versatile with this added - it would probably be more trained on the building itself rather than the building AND the hue of the sky."
   ]
  }
 ],
 "metadata": {
  "kernelspec": {
   "display_name": "Python 3 (ipykernel)",
   "language": "python",
   "name": "python3"
  },
  "language_info": {
   "codemirror_mode": {
    "name": "ipython",
    "version": 3
   },
   "file_extension": ".py",
   "mimetype": "text/x-python",
   "name": "python",
   "nbconvert_exporter": "python",
   "pygments_lexer": "ipython3",
   "version": "3.9.7"
  }
 },
 "nbformat": 4,
 "nbformat_minor": 5
}
